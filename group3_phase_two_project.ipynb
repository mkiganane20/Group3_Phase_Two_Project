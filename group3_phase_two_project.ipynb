{
 "cells": [
  {
   "cell_type": "markdown",
   "metadata": {},
   "source": [
    "# Data-Driven Insights for a New Movie Studio\n",
    "## PHASE TWO PROJECT - GROUP 3"
   ]
  },
  {
   "cell_type": "markdown",
   "metadata": {},
   "source": [
    "### Authors:\n",
    "1. Austine Otieno\n",
    "2. Endalkachew Dessalegne\n",
    "3. Myrajoy Kiganane\n",
    "4. Danton Kipngeno\n",
    "   \n",
    "### 1. Project Overview\n",
    "\n",
    "This project focuses on exploratory data analysis to uncover key insights that will inform the strategy of a newly established movie studio. By analyzing film industry data, the goal is to identify trends that contribute to success in film industry. The findings will provide data-driven recommendations to help the studio make informed decisions about the types of films to produce, increasing the likelihood of financial success.\n",
    "This project uses sqlite3 and Python libraries such as pandas for data manipulation and matplotlib and seaborn for visualization. requires getting an insight into which types of movie genres are successful interms their rating and number of peopel who rated them, that in turn shows us the size of the thier audiens and the profit they can make. It also looked into how runtime of movies, language and region of movies affect their rating and number of votes. The data analysis shows that `Action,Adventure,Sci-Fi` genre has the highest number of votes followed by `Action,Adventure,Fantacy` and `Adventure,Animation,Comedy` genres .`Drama` genre has the highest rating with the highest number of votes followed by `Comedy,Drama` and `Drama,Romance`. This movie genrea are generaly succesful in thier audience size and hence their financial benefit. The data analysis also shows that movies in french language and from US have higher votes and ratings. It also show that runtime of the movies has no effect on the rating and number of votes of movies. \n",
    "  \n",
    "### 1.1. Business Understanding \n",
    "#### 1.11.2 Business Problem \n",
    "\n",
    "A company has decided to create a new movie studio, but they don’t know anything about creating movies. We have been charged with exploring what types of films are currently doing the best at the box office. We must then translate those findings into actionable insights that the head of the company's new movie studio can use to help decide what type of films to create."
   ]
  },
  {
   "cell_type": "markdown",
   "metadata": {},
   "source": [
    "#### 1.1.2. Key Business Questions\n",
    "* Which Movie Genres have the highest average rating?\n",
    "* Which Movie Genres have the highest Number of votes?\n",
    "* What impact does the runtime in minutes has on the average rating and votes?\n",
    "* How does language influence the average rating and total number of voters of movies?\n",
    "* How does region influence the number of votes and average ratings of movies?"
   ]
  },
  {
   "cell_type": "markdown",
   "metadata": {},
   "source": [
    "### 2. Data Understanding"
   ]
  },
  {
   "cell_type": "markdown",
   "metadata": {},
   "source": [
    "#### 2.1 Data Preprocessing \n",
    "#### 2.1.1 The Data \n",
    "To ensure comprehensive analysis of the business problem we retrieved data from the IMDB website (https://www.imdb.com/). The IMDB dataset has eight tables and for this particular project we will focus on three tables, namely 'movie_basics', 'movie_ratings' and 'movie_akas'. These three tables share a column 'movie_id' which will be our Primary Key. From 'movie_basics' table we focus on 'Genres' and 'Runtime in Minutes' columns. From  'movie_ratings'  we focus on 'average ratings' and 'number of votes'and from the 'movie_akas' we focus on 'region' and 'language'. The database consists of information about 331,703 movies with start dates ranging from 2010 to 2025.Two or more tables will be joined using 'movie_id' to access information about the genre, start year, run time, average rating, number of votes, language and region about each movie.  "
   ]
  },
  {
   "cell_type": "markdown",
   "metadata": {},
   "source": [
    "### 2.1.2. Data Preparation\n",
    "This entails;\n",
    "* Importing necessary libraries \n",
    "* Loading and Accessing of the dataset\n",
    "* Data Cleaning and preparation which involves: Accessing necessary data for analysis, Handling missing values and Standardizing columns. "
   ]
  },
  {
   "cell_type": "markdown",
   "metadata": {},
   "source": [
    "#### 2.1.2.1. Importing necessary libraries  "
   ]
  },
  {
   "cell_type": "code",
   "execution_count": 113,
   "metadata": {},
   "outputs": [],
   "source": [
    "# importing necessary libraries \n",
    "import itertools\n",
    "import numpy as np\n",
    "import pandas as pd \n",
    "from numbers import Number\n",
    "import sqlite3\n",
    "from scipy import stats\n",
    "import matplotlib.pyplot as plt\n",
    "import seaborn as sns\n",
    "import warnings\n",
    "warnings.filterwarnings('ignore')\n",
    "sns.set_style('whitegrid')\n",
    "\n",
    "import pickle"
   ]
  },
  {
   "cell_type": "markdown",
   "metadata": {},
   "source": [
    "#### 2.1.2.2. Accessing the Database "
   ]
  },
  {
   "cell_type": "code",
   "execution_count": 114,
   "metadata": {},
   "outputs": [],
   "source": [
    "# Connecting to the'im.db' database\n",
    "conn = sqlite3.connect('im.db')"
   ]
  },
  {
   "cell_type": "code",
   "execution_count": 115,
   "metadata": {},
   "outputs": [
    {
     "data": {
      "text/html": [
       "<div>\n",
       "<style scoped>\n",
       "    .dataframe tbody tr th:only-of-type {\n",
       "        vertical-align: middle;\n",
       "    }\n",
       "\n",
       "    .dataframe tbody tr th {\n",
       "        vertical-align: top;\n",
       "    }\n",
       "\n",
       "    .dataframe thead th {\n",
       "        text-align: right;\n",
       "    }\n",
       "</style>\n",
       "<table border=\"1\" class=\"dataframe\">\n",
       "  <thead>\n",
       "    <tr style=\"text-align: right;\">\n",
       "      <th></th>\n",
       "      <th>name</th>\n",
       "    </tr>\n",
       "  </thead>\n",
       "  <tbody>\n",
       "    <tr>\n",
       "      <th>0</th>\n",
       "      <td>movie_basics</td>\n",
       "    </tr>\n",
       "    <tr>\n",
       "      <th>1</th>\n",
       "      <td>directors</td>\n",
       "    </tr>\n",
       "    <tr>\n",
       "      <th>2</th>\n",
       "      <td>known_for</td>\n",
       "    </tr>\n",
       "    <tr>\n",
       "      <th>3</th>\n",
       "      <td>movie_akas</td>\n",
       "    </tr>\n",
       "    <tr>\n",
       "      <th>4</th>\n",
       "      <td>movie_ratings</td>\n",
       "    </tr>\n",
       "    <tr>\n",
       "      <th>5</th>\n",
       "      <td>persons</td>\n",
       "    </tr>\n",
       "    <tr>\n",
       "      <th>6</th>\n",
       "      <td>principals</td>\n",
       "    </tr>\n",
       "    <tr>\n",
       "      <th>7</th>\n",
       "      <td>writers</td>\n",
       "    </tr>\n",
       "  </tbody>\n",
       "</table>\n",
       "</div>"
      ],
      "text/plain": [
       "            name\n",
       "0   movie_basics\n",
       "1      directors\n",
       "2      known_for\n",
       "3     movie_akas\n",
       "4  movie_ratings\n",
       "5        persons\n",
       "6     principals\n",
       "7        writers"
      ]
     },
     "execution_count": 115,
     "metadata": {},
     "output_type": "execute_result"
    }
   ],
   "source": [
    "#accessing tables in the database \n",
    "q ='''\n",
    "SELECT  name \n",
    "FROM sqlite_master \n",
    "WHERE type='table';\n",
    "'''\n",
    "pd.read_sql(q, conn)"
   ]
  },
  {
   "cell_type": "markdown",
   "metadata": {},
   "source": [
    "- Our database consists of 8 tables and our project focuses on movie_basics, movie_ratings and movie_akas tables.\n",
    "\n",
    "- Below, we view the three tables and all their cloumns."
   ]
  },
  {
   "cell_type": "markdown",
   "metadata": {},
   "source": [
    "#### 2.1.2.3. Movie_basics table"
   ]
  },
  {
   "cell_type": "code",
   "execution_count": 116,
   "metadata": {},
   "outputs": [
    {
     "data": {
      "text/html": [
       "<div>\n",
       "<style scoped>\n",
       "    .dataframe tbody tr th:only-of-type {\n",
       "        vertical-align: middle;\n",
       "    }\n",
       "\n",
       "    .dataframe tbody tr th {\n",
       "        vertical-align: top;\n",
       "    }\n",
       "\n",
       "    .dataframe thead th {\n",
       "        text-align: right;\n",
       "    }\n",
       "</style>\n",
       "<table border=\"1\" class=\"dataframe\">\n",
       "  <thead>\n",
       "    <tr style=\"text-align: right;\">\n",
       "      <th></th>\n",
       "      <th>movie_id</th>\n",
       "      <th>primary_title</th>\n",
       "      <th>original_title</th>\n",
       "      <th>start_year</th>\n",
       "      <th>runtime_minutes</th>\n",
       "      <th>genres</th>\n",
       "    </tr>\n",
       "  </thead>\n",
       "  <tbody>\n",
       "    <tr>\n",
       "      <th>0</th>\n",
       "      <td>tt0063540</td>\n",
       "      <td>Sunghursh</td>\n",
       "      <td>Sunghursh</td>\n",
       "      <td>2013</td>\n",
       "      <td>175.0</td>\n",
       "      <td>Action,Crime,Drama</td>\n",
       "    </tr>\n",
       "    <tr>\n",
       "      <th>1</th>\n",
       "      <td>tt0066787</td>\n",
       "      <td>One Day Before the Rainy Season</td>\n",
       "      <td>Ashad Ka Ek Din</td>\n",
       "      <td>2019</td>\n",
       "      <td>114.0</td>\n",
       "      <td>Biography,Drama</td>\n",
       "    </tr>\n",
       "    <tr>\n",
       "      <th>2</th>\n",
       "      <td>tt0069049</td>\n",
       "      <td>The Other Side of the Wind</td>\n",
       "      <td>The Other Side of the Wind</td>\n",
       "      <td>2018</td>\n",
       "      <td>122.0</td>\n",
       "      <td>Drama</td>\n",
       "    </tr>\n",
       "    <tr>\n",
       "      <th>3</th>\n",
       "      <td>tt0069204</td>\n",
       "      <td>Sabse Bada Sukh</td>\n",
       "      <td>Sabse Bada Sukh</td>\n",
       "      <td>2018</td>\n",
       "      <td>NaN</td>\n",
       "      <td>Comedy,Drama</td>\n",
       "    </tr>\n",
       "    <tr>\n",
       "      <th>4</th>\n",
       "      <td>tt0100275</td>\n",
       "      <td>The Wandering Soap Opera</td>\n",
       "      <td>La Telenovela Errante</td>\n",
       "      <td>2017</td>\n",
       "      <td>80.0</td>\n",
       "      <td>Comedy,Drama,Fantasy</td>\n",
       "    </tr>\n",
       "    <tr>\n",
       "      <th>...</th>\n",
       "      <td>...</td>\n",
       "      <td>...</td>\n",
       "      <td>...</td>\n",
       "      <td>...</td>\n",
       "      <td>...</td>\n",
       "      <td>...</td>\n",
       "    </tr>\n",
       "    <tr>\n",
       "      <th>146139</th>\n",
       "      <td>tt9916538</td>\n",
       "      <td>Kuambil Lagi Hatiku</td>\n",
       "      <td>Kuambil Lagi Hatiku</td>\n",
       "      <td>2019</td>\n",
       "      <td>123.0</td>\n",
       "      <td>Drama</td>\n",
       "    </tr>\n",
       "    <tr>\n",
       "      <th>146140</th>\n",
       "      <td>tt9916622</td>\n",
       "      <td>Rodolpho Teóphilo - O Legado de um Pioneiro</td>\n",
       "      <td>Rodolpho Teóphilo - O Legado de um Pioneiro</td>\n",
       "      <td>2015</td>\n",
       "      <td>NaN</td>\n",
       "      <td>Documentary</td>\n",
       "    </tr>\n",
       "    <tr>\n",
       "      <th>146141</th>\n",
       "      <td>tt9916706</td>\n",
       "      <td>Dankyavar Danka</td>\n",
       "      <td>Dankyavar Danka</td>\n",
       "      <td>2013</td>\n",
       "      <td>NaN</td>\n",
       "      <td>Comedy</td>\n",
       "    </tr>\n",
       "    <tr>\n",
       "      <th>146142</th>\n",
       "      <td>tt9916730</td>\n",
       "      <td>6 Gunn</td>\n",
       "      <td>6 Gunn</td>\n",
       "      <td>2017</td>\n",
       "      <td>116.0</td>\n",
       "      <td>None</td>\n",
       "    </tr>\n",
       "    <tr>\n",
       "      <th>146143</th>\n",
       "      <td>tt9916754</td>\n",
       "      <td>Chico Albuquerque - Revelações</td>\n",
       "      <td>Chico Albuquerque - Revelações</td>\n",
       "      <td>2013</td>\n",
       "      <td>NaN</td>\n",
       "      <td>Documentary</td>\n",
       "    </tr>\n",
       "  </tbody>\n",
       "</table>\n",
       "<p>146144 rows × 6 columns</p>\n",
       "</div>"
      ],
      "text/plain": [
       "         movie_id                                primary_title  \\\n",
       "0       tt0063540                                    Sunghursh   \n",
       "1       tt0066787              One Day Before the Rainy Season   \n",
       "2       tt0069049                   The Other Side of the Wind   \n",
       "3       tt0069204                              Sabse Bada Sukh   \n",
       "4       tt0100275                     The Wandering Soap Opera   \n",
       "...           ...                                          ...   \n",
       "146139  tt9916538                          Kuambil Lagi Hatiku   \n",
       "146140  tt9916622  Rodolpho Teóphilo - O Legado de um Pioneiro   \n",
       "146141  tt9916706                              Dankyavar Danka   \n",
       "146142  tt9916730                                       6 Gunn   \n",
       "146143  tt9916754               Chico Albuquerque - Revelações   \n",
       "\n",
       "                                     original_title  start_year  \\\n",
       "0                                         Sunghursh        2013   \n",
       "1                                   Ashad Ka Ek Din        2019   \n",
       "2                        The Other Side of the Wind        2018   \n",
       "3                                   Sabse Bada Sukh        2018   \n",
       "4                             La Telenovela Errante        2017   \n",
       "...                                             ...         ...   \n",
       "146139                          Kuambil Lagi Hatiku        2019   \n",
       "146140  Rodolpho Teóphilo - O Legado de um Pioneiro        2015   \n",
       "146141                              Dankyavar Danka        2013   \n",
       "146142                                       6 Gunn        2017   \n",
       "146143               Chico Albuquerque - Revelações        2013   \n",
       "\n",
       "        runtime_minutes                genres  \n",
       "0                 175.0    Action,Crime,Drama  \n",
       "1                 114.0       Biography,Drama  \n",
       "2                 122.0                 Drama  \n",
       "3                   NaN          Comedy,Drama  \n",
       "4                  80.0  Comedy,Drama,Fantasy  \n",
       "...                 ...                   ...  \n",
       "146139            123.0                 Drama  \n",
       "146140              NaN           Documentary  \n",
       "146141              NaN                Comedy  \n",
       "146142            116.0                  None  \n",
       "146143              NaN           Documentary  \n",
       "\n",
       "[146144 rows x 6 columns]"
      ]
     },
     "execution_count": 116,
     "metadata": {},
     "output_type": "execute_result"
    }
   ],
   "source": [
    "#Viewing columns in the movie_basics table in the database\n",
    "q = '''\n",
    "SELECT *\n",
    "FROM movie_basics;\n",
    "'''\n",
    "movie_basics = pd.read_sql(q, conn)\n",
    "movie_basics"
   ]
  },
  {
   "cell_type": "markdown",
   "metadata": {},
   "source": [
    "\n",
    "#### 2.1.2.4. Movie_ratings table"
   ]
  },
  {
   "cell_type": "code",
   "execution_count": 117,
   "metadata": {},
   "outputs": [
    {
     "data": {
      "text/html": [
       "<div>\n",
       "<style scoped>\n",
       "    .dataframe tbody tr th:only-of-type {\n",
       "        vertical-align: middle;\n",
       "    }\n",
       "\n",
       "    .dataframe tbody tr th {\n",
       "        vertical-align: top;\n",
       "    }\n",
       "\n",
       "    .dataframe thead th {\n",
       "        text-align: right;\n",
       "    }\n",
       "</style>\n",
       "<table border=\"1\" class=\"dataframe\">\n",
       "  <thead>\n",
       "    <tr style=\"text-align: right;\">\n",
       "      <th></th>\n",
       "      <th>movie_id</th>\n",
       "      <th>averagerating</th>\n",
       "      <th>numvotes</th>\n",
       "    </tr>\n",
       "  </thead>\n",
       "  <tbody>\n",
       "    <tr>\n",
       "      <th>0</th>\n",
       "      <td>tt10356526</td>\n",
       "      <td>8.3</td>\n",
       "      <td>31</td>\n",
       "    </tr>\n",
       "    <tr>\n",
       "      <th>1</th>\n",
       "      <td>tt10384606</td>\n",
       "      <td>8.9</td>\n",
       "      <td>559</td>\n",
       "    </tr>\n",
       "    <tr>\n",
       "      <th>2</th>\n",
       "      <td>tt1042974</td>\n",
       "      <td>6.4</td>\n",
       "      <td>20</td>\n",
       "    </tr>\n",
       "    <tr>\n",
       "      <th>3</th>\n",
       "      <td>tt1043726</td>\n",
       "      <td>4.2</td>\n",
       "      <td>50352</td>\n",
       "    </tr>\n",
       "    <tr>\n",
       "      <th>4</th>\n",
       "      <td>tt1060240</td>\n",
       "      <td>6.5</td>\n",
       "      <td>21</td>\n",
       "    </tr>\n",
       "    <tr>\n",
       "      <th>...</th>\n",
       "      <td>...</td>\n",
       "      <td>...</td>\n",
       "      <td>...</td>\n",
       "    </tr>\n",
       "    <tr>\n",
       "      <th>73851</th>\n",
       "      <td>tt9805820</td>\n",
       "      <td>8.1</td>\n",
       "      <td>25</td>\n",
       "    </tr>\n",
       "    <tr>\n",
       "      <th>73852</th>\n",
       "      <td>tt9844256</td>\n",
       "      <td>7.5</td>\n",
       "      <td>24</td>\n",
       "    </tr>\n",
       "    <tr>\n",
       "      <th>73853</th>\n",
       "      <td>tt9851050</td>\n",
       "      <td>4.7</td>\n",
       "      <td>14</td>\n",
       "    </tr>\n",
       "    <tr>\n",
       "      <th>73854</th>\n",
       "      <td>tt9886934</td>\n",
       "      <td>7.0</td>\n",
       "      <td>5</td>\n",
       "    </tr>\n",
       "    <tr>\n",
       "      <th>73855</th>\n",
       "      <td>tt9894098</td>\n",
       "      <td>6.3</td>\n",
       "      <td>128</td>\n",
       "    </tr>\n",
       "  </tbody>\n",
       "</table>\n",
       "<p>73856 rows × 3 columns</p>\n",
       "</div>"
      ],
      "text/plain": [
       "         movie_id  averagerating  numvotes\n",
       "0      tt10356526            8.3        31\n",
       "1      tt10384606            8.9       559\n",
       "2       tt1042974            6.4        20\n",
       "3       tt1043726            4.2     50352\n",
       "4       tt1060240            6.5        21\n",
       "...           ...            ...       ...\n",
       "73851   tt9805820            8.1        25\n",
       "73852   tt9844256            7.5        24\n",
       "73853   tt9851050            4.7        14\n",
       "73854   tt9886934            7.0         5\n",
       "73855   tt9894098            6.3       128\n",
       "\n",
       "[73856 rows x 3 columns]"
      ]
     },
     "execution_count": 117,
     "metadata": {},
     "output_type": "execute_result"
    }
   ],
   "source": [
    "#Viewing columns in the movie_ratings table from the database\n",
    "q = '''\n",
    "SELECT *\n",
    "FROM movie_ratings;\n",
    "'''\n",
    "movie_ratings = pd.read_sql(q, conn)\n",
    "movie_ratings"
   ]
  },
  {
   "cell_type": "markdown",
   "metadata": {},
   "source": [
    "#### 2.1.2.5. Movie_akas table"
   ]
  },
  {
   "cell_type": "code",
   "execution_count": 119,
   "metadata": {},
   "outputs": [
    {
     "data": {
      "text/html": [
       "<div>\n",
       "<style scoped>\n",
       "    .dataframe tbody tr th:only-of-type {\n",
       "        vertical-align: middle;\n",
       "    }\n",
       "\n",
       "    .dataframe tbody tr th {\n",
       "        vertical-align: top;\n",
       "    }\n",
       "\n",
       "    .dataframe thead th {\n",
       "        text-align: right;\n",
       "    }\n",
       "</style>\n",
       "<table border=\"1\" class=\"dataframe\">\n",
       "  <thead>\n",
       "    <tr style=\"text-align: right;\">\n",
       "      <th></th>\n",
       "      <th>movie_id</th>\n",
       "      <th>ordering</th>\n",
       "      <th>title</th>\n",
       "      <th>region</th>\n",
       "      <th>language</th>\n",
       "      <th>types</th>\n",
       "      <th>attributes</th>\n",
       "      <th>is_original_title</th>\n",
       "    </tr>\n",
       "  </thead>\n",
       "  <tbody>\n",
       "    <tr>\n",
       "      <th>0</th>\n",
       "      <td>tt0369610</td>\n",
       "      <td>10</td>\n",
       "      <td>Джурасик свят</td>\n",
       "      <td>BG</td>\n",
       "      <td>bg</td>\n",
       "      <td>None</td>\n",
       "      <td>None</td>\n",
       "      <td>0.0</td>\n",
       "    </tr>\n",
       "    <tr>\n",
       "      <th>1</th>\n",
       "      <td>tt0369610</td>\n",
       "      <td>11</td>\n",
       "      <td>Jurashikku warudo</td>\n",
       "      <td>JP</td>\n",
       "      <td>None</td>\n",
       "      <td>imdbDisplay</td>\n",
       "      <td>None</td>\n",
       "      <td>0.0</td>\n",
       "    </tr>\n",
       "    <tr>\n",
       "      <th>2</th>\n",
       "      <td>tt0369610</td>\n",
       "      <td>12</td>\n",
       "      <td>Jurassic World: O Mundo dos Dinossauros</td>\n",
       "      <td>BR</td>\n",
       "      <td>None</td>\n",
       "      <td>imdbDisplay</td>\n",
       "      <td>None</td>\n",
       "      <td>0.0</td>\n",
       "    </tr>\n",
       "    <tr>\n",
       "      <th>3</th>\n",
       "      <td>tt0369610</td>\n",
       "      <td>13</td>\n",
       "      <td>O Mundo dos Dinossauros</td>\n",
       "      <td>BR</td>\n",
       "      <td>None</td>\n",
       "      <td>None</td>\n",
       "      <td>short title</td>\n",
       "      <td>0.0</td>\n",
       "    </tr>\n",
       "    <tr>\n",
       "      <th>4</th>\n",
       "      <td>tt0369610</td>\n",
       "      <td>14</td>\n",
       "      <td>Jurassic World</td>\n",
       "      <td>FR</td>\n",
       "      <td>None</td>\n",
       "      <td>imdbDisplay</td>\n",
       "      <td>None</td>\n",
       "      <td>0.0</td>\n",
       "    </tr>\n",
       "    <tr>\n",
       "      <th>...</th>\n",
       "      <td>...</td>\n",
       "      <td>...</td>\n",
       "      <td>...</td>\n",
       "      <td>...</td>\n",
       "      <td>...</td>\n",
       "      <td>...</td>\n",
       "      <td>...</td>\n",
       "      <td>...</td>\n",
       "    </tr>\n",
       "    <tr>\n",
       "      <th>331698</th>\n",
       "      <td>tt9827784</td>\n",
       "      <td>2</td>\n",
       "      <td>Sayonara kuchibiru</td>\n",
       "      <td>None</td>\n",
       "      <td>None</td>\n",
       "      <td>original</td>\n",
       "      <td>None</td>\n",
       "      <td>1.0</td>\n",
       "    </tr>\n",
       "    <tr>\n",
       "      <th>331699</th>\n",
       "      <td>tt9827784</td>\n",
       "      <td>3</td>\n",
       "      <td>Farewell Song</td>\n",
       "      <td>XWW</td>\n",
       "      <td>en</td>\n",
       "      <td>imdbDisplay</td>\n",
       "      <td>None</td>\n",
       "      <td>0.0</td>\n",
       "    </tr>\n",
       "    <tr>\n",
       "      <th>331700</th>\n",
       "      <td>tt9880178</td>\n",
       "      <td>1</td>\n",
       "      <td>La atención</td>\n",
       "      <td>None</td>\n",
       "      <td>None</td>\n",
       "      <td>original</td>\n",
       "      <td>None</td>\n",
       "      <td>1.0</td>\n",
       "    </tr>\n",
       "    <tr>\n",
       "      <th>331701</th>\n",
       "      <td>tt9880178</td>\n",
       "      <td>2</td>\n",
       "      <td>La atención</td>\n",
       "      <td>ES</td>\n",
       "      <td>None</td>\n",
       "      <td>None</td>\n",
       "      <td>None</td>\n",
       "      <td>0.0</td>\n",
       "    </tr>\n",
       "    <tr>\n",
       "      <th>331702</th>\n",
       "      <td>tt9880178</td>\n",
       "      <td>3</td>\n",
       "      <td>The Attention</td>\n",
       "      <td>XWW</td>\n",
       "      <td>en</td>\n",
       "      <td>imdbDisplay</td>\n",
       "      <td>None</td>\n",
       "      <td>0.0</td>\n",
       "    </tr>\n",
       "  </tbody>\n",
       "</table>\n",
       "<p>331703 rows × 8 columns</p>\n",
       "</div>"
      ],
      "text/plain": [
       "         movie_id  ordering                                    title region  \\\n",
       "0       tt0369610        10                            Джурасик свят     BG   \n",
       "1       tt0369610        11                        Jurashikku warudo     JP   \n",
       "2       tt0369610        12  Jurassic World: O Mundo dos Dinossauros     BR   \n",
       "3       tt0369610        13                  O Mundo dos Dinossauros     BR   \n",
       "4       tt0369610        14                           Jurassic World     FR   \n",
       "...           ...       ...                                      ...    ...   \n",
       "331698  tt9827784         2                       Sayonara kuchibiru   None   \n",
       "331699  tt9827784         3                            Farewell Song    XWW   \n",
       "331700  tt9880178         1                              La atención   None   \n",
       "331701  tt9880178         2                              La atención     ES   \n",
       "331702  tt9880178         3                            The Attention    XWW   \n",
       "\n",
       "       language        types   attributes  is_original_title  \n",
       "0            bg         None         None                0.0  \n",
       "1          None  imdbDisplay         None                0.0  \n",
       "2          None  imdbDisplay         None                0.0  \n",
       "3          None         None  short title                0.0  \n",
       "4          None  imdbDisplay         None                0.0  \n",
       "...         ...          ...          ...                ...  \n",
       "331698     None     original         None                1.0  \n",
       "331699       en  imdbDisplay         None                0.0  \n",
       "331700     None     original         None                1.0  \n",
       "331701     None         None         None                0.0  \n",
       "331702       en  imdbDisplay         None                0.0  \n",
       "\n",
       "[331703 rows x 8 columns]"
      ]
     },
     "execution_count": 119,
     "metadata": {},
     "output_type": "execute_result"
    }
   ],
   "source": [
    "#Viewing columns in the movie_akas table from the database\n",
    "q = '''\n",
    "SELECT *\n",
    "FROM movie_akas;\n",
    "'''\n",
    "movie_akas = pd.read_sql(q, conn)\n",
    "movie_akas"
   ]
  },
  {
   "cell_type": "markdown",
   "metadata": {},
   "source": [
    "- *movie_basics*, *movie_ratings* and *movie_akas* tables consit of 146144, 73855 and 331702 rows or entries of movies respectively\n",
    "- all tables having *movie_id* as a primary-kay or foriegn-key, having varying number of rows indicates that there may be missing and null values "
   ]
  },
  {
   "cell_type": "markdown",
   "metadata": {},
   "source": [
    "### 2.1.3. Viewing missing or null values"
   ]
  },
  {
   "cell_type": "code",
   "execution_count": 120,
   "metadata": {},
   "outputs": [
    {
     "data": {
      "text/plain": [
       "movie_id               0\n",
       "primary_title          0\n",
       "original_title        21\n",
       "start_year             0\n",
       "runtime_minutes    31739\n",
       "genres              5408\n",
       "dtype: int64"
      ]
     },
     "execution_count": 120,
     "metadata": {},
     "output_type": "execute_result"
    }
   ],
   "source": [
    "# viewing null values from momovie_basics table\n",
    "movie_basics.isnull().sum()"
   ]
  },
  {
   "cell_type": "code",
   "execution_count": 121,
   "metadata": {},
   "outputs": [
    {
     "data": {
      "text/plain": [
       "movie_id         0\n",
       "averagerating    0\n",
       "numvotes         0\n",
       "dtype: int64"
      ]
     },
     "execution_count": 121,
     "metadata": {},
     "output_type": "execute_result"
    }
   ],
   "source": [
    "# viewing null values from momovie_ratings table\n",
    "movie_ratings.isnull().sum()"
   ]
  },
  {
   "cell_type": "code",
   "execution_count": 122,
   "metadata": {},
   "outputs": [
    {
     "data": {
      "text/plain": [
       "movie_id                  0\n",
       "ordering                  0\n",
       "title                     0\n",
       "region                53293\n",
       "language             289988\n",
       "types                163256\n",
       "attributes           316778\n",
       "is_original_title        25\n",
       "dtype: int64"
      ]
     },
     "execution_count": 122,
     "metadata": {},
     "output_type": "execute_result"
    }
   ],
   "source": [
    "# viewing null values from momovie_akas table\n",
    "movie_akas.isnull().sum()"
   ]
  },
  {
   "cell_type": "markdown",
   "metadata": {},
   "source": [
    "- We notice that there are null values in movie_basics and movie_akas tables.\n",
    "- Using SQL for data extraction and manupilation, we will be dealing with these missing and null values in the queries we write whenever those columns with the null values are envolved"
   ]
  },
  {
   "cell_type": "markdown",
   "metadata": {},
   "source": [
    "## 3. Data Analysis\n",
    "\n",
    "* We join *`movie_basics`* and *`movie_rating`* tables to analyse the rating and total number of votes of movie genres\n",
    "* we analyse the trend in the rating and number of votes of top rated and voted genres over the years\n",
    "* we analyse the effect of runtime in minutes, language and region in the rating and number of votes "
   ]
  },
  {
   "cell_type": "code",
   "execution_count": 123,
   "metadata": {},
   "outputs": [
    {
     "data": {
      "text/html": [
       "<div>\n",
       "<style scoped>\n",
       "    .dataframe tbody tr th:only-of-type {\n",
       "        vertical-align: middle;\n",
       "    }\n",
       "\n",
       "    .dataframe tbody tr th {\n",
       "        vertical-align: top;\n",
       "    }\n",
       "\n",
       "    .dataframe thead th {\n",
       "        text-align: right;\n",
       "    }\n",
       "</style>\n",
       "<table border=\"1\" class=\"dataframe\">\n",
       "  <thead>\n",
       "    <tr style=\"text-align: right;\">\n",
       "      <th></th>\n",
       "      <th>movie_id</th>\n",
       "      <th>genres</th>\n",
       "      <th>averagerating</th>\n",
       "      <th>numvotes</th>\n",
       "    </tr>\n",
       "  </thead>\n",
       "  <tbody>\n",
       "    <tr>\n",
       "      <th>0</th>\n",
       "      <td>tt0063540</td>\n",
       "      <td>Action,Crime,Drama</td>\n",
       "      <td>7.0</td>\n",
       "      <td>77</td>\n",
       "    </tr>\n",
       "    <tr>\n",
       "      <th>1</th>\n",
       "      <td>tt0066787</td>\n",
       "      <td>Biography,Drama</td>\n",
       "      <td>7.2</td>\n",
       "      <td>43</td>\n",
       "    </tr>\n",
       "    <tr>\n",
       "      <th>2</th>\n",
       "      <td>tt0069049</td>\n",
       "      <td>Drama</td>\n",
       "      <td>6.9</td>\n",
       "      <td>4517</td>\n",
       "    </tr>\n",
       "    <tr>\n",
       "      <th>3</th>\n",
       "      <td>tt0069204</td>\n",
       "      <td>Comedy,Drama</td>\n",
       "      <td>6.1</td>\n",
       "      <td>13</td>\n",
       "    </tr>\n",
       "    <tr>\n",
       "      <th>4</th>\n",
       "      <td>tt0100275</td>\n",
       "      <td>Comedy,Drama,Fantasy</td>\n",
       "      <td>6.5</td>\n",
       "      <td>119</td>\n",
       "    </tr>\n",
       "    <tr>\n",
       "      <th>...</th>\n",
       "      <td>...</td>\n",
       "      <td>...</td>\n",
       "      <td>...</td>\n",
       "      <td>...</td>\n",
       "    </tr>\n",
       "    <tr>\n",
       "      <th>73047</th>\n",
       "      <td>tt9913056</td>\n",
       "      <td>Documentary</td>\n",
       "      <td>6.2</td>\n",
       "      <td>5</td>\n",
       "    </tr>\n",
       "    <tr>\n",
       "      <th>73048</th>\n",
       "      <td>tt9913084</td>\n",
       "      <td>Documentary</td>\n",
       "      <td>6.2</td>\n",
       "      <td>6</td>\n",
       "    </tr>\n",
       "    <tr>\n",
       "      <th>73049</th>\n",
       "      <td>tt9914286</td>\n",
       "      <td>Drama,Family</td>\n",
       "      <td>8.7</td>\n",
       "      <td>136</td>\n",
       "    </tr>\n",
       "    <tr>\n",
       "      <th>73050</th>\n",
       "      <td>tt9914642</td>\n",
       "      <td>Documentary</td>\n",
       "      <td>8.5</td>\n",
       "      <td>8</td>\n",
       "    </tr>\n",
       "    <tr>\n",
       "      <th>73051</th>\n",
       "      <td>tt9916160</td>\n",
       "      <td>Documentary</td>\n",
       "      <td>6.5</td>\n",
       "      <td>11</td>\n",
       "    </tr>\n",
       "  </tbody>\n",
       "</table>\n",
       "<p>73052 rows × 4 columns</p>\n",
       "</div>"
      ],
      "text/plain": [
       "        movie_id                genres  averagerating  numvotes\n",
       "0      tt0063540    Action,Crime,Drama            7.0        77\n",
       "1      tt0066787       Biography,Drama            7.2        43\n",
       "2      tt0069049                 Drama            6.9      4517\n",
       "3      tt0069204          Comedy,Drama            6.1        13\n",
       "4      tt0100275  Comedy,Drama,Fantasy            6.5       119\n",
       "...          ...                   ...            ...       ...\n",
       "73047  tt9913056           Documentary            6.2         5\n",
       "73048  tt9913084           Documentary            6.2         6\n",
       "73049  tt9914286          Drama,Family            8.7       136\n",
       "73050  tt9914642           Documentary            8.5         8\n",
       "73051  tt9916160           Documentary            6.5        11\n",
       "\n",
       "[73052 rows x 4 columns]"
      ]
     },
     "execution_count": 123,
     "metadata": {},
     "output_type": "execute_result"
    }
   ],
   "source": [
    "# join movie_basics and movie_ratings tables\n",
    "# to remove null values - query contains 'genres is not null'\n",
    "q = \"\"\" \n",
    "SELECT movie_id, genres, averagerating, numvotes\n",
    "FROM movie_basics\n",
    "   JOIN movie_ratings\n",
    "   USING(movie_id)\n",
    "WHERE genres IS NOT NULL\n",
    "\"\"\"\n",
    "movie_basics_and_ratings = pd.read_sql(q, conn)\n",
    "movie_basics_and_ratings"
   ]
  },
  {
   "cell_type": "markdown",
   "metadata": {},
   "source": [
    "- Joined table gives us the rating and number of votes for each rated movie."
   ]
  },
  {
   "cell_type": "markdown",
   "metadata": {},
   "source": [
    "### 3.1. Movie Rating and Number of Votes"
   ]
  },
  {
   "cell_type": "markdown",
   "metadata": {},
   "source": [
    "#### 3.1.1 Movie Ratings"
   ]
  },
  {
   "cell_type": "code",
   "execution_count": 124,
   "metadata": {},
   "outputs": [
    {
     "data": {
      "text/html": [
       "<div>\n",
       "<style scoped>\n",
       "    .dataframe tbody tr th:only-of-type {\n",
       "        vertical-align: middle;\n",
       "    }\n",
       "\n",
       "    .dataframe tbody tr th {\n",
       "        vertical-align: top;\n",
       "    }\n",
       "\n",
       "    .dataframe thead th {\n",
       "        text-align: right;\n",
       "    }\n",
       "</style>\n",
       "<table border=\"1\" class=\"dataframe\">\n",
       "  <thead>\n",
       "    <tr style=\"text-align: right;\">\n",
       "      <th></th>\n",
       "      <th>genres</th>\n",
       "      <th>Avg_averagerating</th>\n",
       "      <th>Total_numvotes</th>\n",
       "    </tr>\n",
       "  </thead>\n",
       "  <tbody>\n",
       "    <tr>\n",
       "      <th>0</th>\n",
       "      <td>Comedy,Documentary,Fantasy</td>\n",
       "      <td>9.4</td>\n",
       "      <td>5</td>\n",
       "    </tr>\n",
       "    <tr>\n",
       "      <th>1</th>\n",
       "      <td>Documentary,Family,Musical</td>\n",
       "      <td>9.3</td>\n",
       "      <td>19</td>\n",
       "    </tr>\n",
       "    <tr>\n",
       "      <th>2</th>\n",
       "      <td>History,Sport</td>\n",
       "      <td>9.2</td>\n",
       "      <td>5</td>\n",
       "    </tr>\n",
       "    <tr>\n",
       "      <th>3</th>\n",
       "      <td>Game-Show</td>\n",
       "      <td>9.0</td>\n",
       "      <td>7</td>\n",
       "    </tr>\n",
       "    <tr>\n",
       "      <th>4</th>\n",
       "      <td>Music,Mystery</td>\n",
       "      <td>9.0</td>\n",
       "      <td>5</td>\n",
       "    </tr>\n",
       "    <tr>\n",
       "      <th>5</th>\n",
       "      <td>Documentary,News,Sport</td>\n",
       "      <td>8.8</td>\n",
       "      <td>25</td>\n",
       "    </tr>\n",
       "    <tr>\n",
       "      <th>6</th>\n",
       "      <td>Drama,Fantasy,War</td>\n",
       "      <td>8.8</td>\n",
       "      <td>22</td>\n",
       "    </tr>\n",
       "    <tr>\n",
       "      <th>7</th>\n",
       "      <td>Comedy,Drama,Reality-TV</td>\n",
       "      <td>8.8</td>\n",
       "      <td>15</td>\n",
       "    </tr>\n",
       "    <tr>\n",
       "      <th>8</th>\n",
       "      <td>Documentary,News,Reality-TV</td>\n",
       "      <td>8.8</td>\n",
       "      <td>8</td>\n",
       "    </tr>\n",
       "    <tr>\n",
       "      <th>9</th>\n",
       "      <td>Drama,Short</td>\n",
       "      <td>8.8</td>\n",
       "      <td>8</td>\n",
       "    </tr>\n",
       "  </tbody>\n",
       "</table>\n",
       "</div>"
      ],
      "text/plain": [
       "                        genres  Avg_averagerating  Total_numvotes\n",
       "0   Comedy,Documentary,Fantasy                9.4               5\n",
       "1   Documentary,Family,Musical                9.3              19\n",
       "2                History,Sport                9.2               5\n",
       "3                    Game-Show                9.0               7\n",
       "4                Music,Mystery                9.0               5\n",
       "5       Documentary,News,Sport                8.8              25\n",
       "6            Drama,Fantasy,War                8.8              22\n",
       "7      Comedy,Drama,Reality-TV                8.8              15\n",
       "8  Documentary,News,Reality-TV                8.8               8\n",
       "9                  Drama,Short                8.8               8"
      ]
     },
     "execution_count": 124,
     "metadata": {},
     "output_type": "execute_result"
    }
   ],
   "source": [
    "# top 10 movie genres with highest average rating irrespective of their number of votes\n",
    "q = \"\"\" \n",
    "    SELECT genres, AVG(averagerating) AS Avg_averagerating, SUM(numvotes) AS Total_numvotes\n",
    "      FROM movie_basics\n",
    "           JOIN movie_ratings\n",
    "           USING(movie_id)\n",
    "   GROUP BY genres\n",
    "  ORDER BY Avg_averagerating DESC, Total_numvotes DESC\n",
    "     LIMIT 10\n",
    "    \"\"\"\n",
    "genres_top_rate = pd.read_sql(q, conn)\n",
    "genres_top_rate"
   ]
  },
  {
   "cell_type": "markdown",
   "metadata": {},
   "source": [
    "- These are movie genres with the highest ratings but their votes(number of people who rated them)\n",
    "is very low (5-25)\n",
    "- These high ratings, with minimum number of voters, are of less or no significance to evaluate success of the movies\n",
    "- Thus, we evaluate movie success based on number of votes and ratings combined "
   ]
  },
  {
   "cell_type": "markdown",
   "metadata": {},
   "source": [
    "#### 3.1.2. Genres with highest number of votes and ratings"
   ]
  },
  {
   "cell_type": "code",
   "execution_count": 125,
   "metadata": {},
   "outputs": [
    {
     "data": {
      "text/html": [
       "<div>\n",
       "<style scoped>\n",
       "    .dataframe tbody tr th:only-of-type {\n",
       "        vertical-align: middle;\n",
       "    }\n",
       "\n",
       "    .dataframe tbody tr th {\n",
       "        vertical-align: top;\n",
       "    }\n",
       "\n",
       "    .dataframe thead th {\n",
       "        text-align: right;\n",
       "    }\n",
       "</style>\n",
       "<table border=\"1\" class=\"dataframe\">\n",
       "  <thead>\n",
       "    <tr style=\"text-align: right;\">\n",
       "      <th></th>\n",
       "      <th>genres</th>\n",
       "      <th>Total_numvotes</th>\n",
       "      <th>Avg_averagerating</th>\n",
       "    </tr>\n",
       "  </thead>\n",
       "  <tbody>\n",
       "    <tr>\n",
       "      <th>0</th>\n",
       "      <td>Action,Adventure,Sci-Fi</td>\n",
       "      <td>23023248</td>\n",
       "      <td>5.655906</td>\n",
       "    </tr>\n",
       "    <tr>\n",
       "      <th>1</th>\n",
       "      <td>Action,Adventure,Fantasy</td>\n",
       "      <td>9658883</td>\n",
       "      <td>5.371845</td>\n",
       "    </tr>\n",
       "    <tr>\n",
       "      <th>2</th>\n",
       "      <td>Adventure,Animation,Comedy</td>\n",
       "      <td>8687435</td>\n",
       "      <td>5.936555</td>\n",
       "    </tr>\n",
       "    <tr>\n",
       "      <th>3</th>\n",
       "      <td>Drama</td>\n",
       "      <td>8395521</td>\n",
       "      <td>6.494265</td>\n",
       "    </tr>\n",
       "    <tr>\n",
       "      <th>4</th>\n",
       "      <td>Comedy,Drama,Romance</td>\n",
       "      <td>7665463</td>\n",
       "      <td>6.292467</td>\n",
       "    </tr>\n",
       "    <tr>\n",
       "      <th>5</th>\n",
       "      <td>Action,Adventure,Comedy</td>\n",
       "      <td>7256686</td>\n",
       "      <td>5.554032</td>\n",
       "    </tr>\n",
       "    <tr>\n",
       "      <th>6</th>\n",
       "      <td>Comedy</td>\n",
       "      <td>6832037</td>\n",
       "      <td>5.777998</td>\n",
       "    </tr>\n",
       "    <tr>\n",
       "      <th>7</th>\n",
       "      <td>Comedy,Drama</td>\n",
       "      <td>6462839</td>\n",
       "      <td>6.364119</td>\n",
       "    </tr>\n",
       "    <tr>\n",
       "      <th>8</th>\n",
       "      <td>Action,Crime,Drama</td>\n",
       "      <td>5563553</td>\n",
       "      <td>5.989146</td>\n",
       "    </tr>\n",
       "    <tr>\n",
       "      <th>9</th>\n",
       "      <td>Drama,Romance</td>\n",
       "      <td>5542760</td>\n",
       "      <td>6.294305</td>\n",
       "    </tr>\n",
       "  </tbody>\n",
       "</table>\n",
       "</div>"
      ],
      "text/plain": [
       "                       genres  Total_numvotes  Avg_averagerating\n",
       "0     Action,Adventure,Sci-Fi        23023248           5.655906\n",
       "1    Action,Adventure,Fantasy         9658883           5.371845\n",
       "2  Adventure,Animation,Comedy         8687435           5.936555\n",
       "3                       Drama         8395521           6.494265\n",
       "4        Comedy,Drama,Romance         7665463           6.292467\n",
       "5     Action,Adventure,Comedy         7256686           5.554032\n",
       "6                      Comedy         6832037           5.777998\n",
       "7                Comedy,Drama         6462839           6.364119\n",
       "8          Action,Crime,Drama         5563553           5.989146\n",
       "9               Drama,Romance         5542760           6.294305"
      ]
     },
     "execution_count": 125,
     "metadata": {},
     "output_type": "execute_result"
    }
   ],
   "source": [
    "# top 10 movie genres with highest number of votes and average rating \n",
    "q = \"\"\" \n",
    "    SELECT genres, SUM(numvotes) AS Total_numvotes, AVG(averagerating) AS Avg_averagerating\n",
    "      FROM movie_basics\n",
    "           JOIN movie_ratings\n",
    "           USING(movie_id)\n",
    "  GROUP BY genres\n",
    "  ORDER BY Total_numvotes DESC, Avg_averagerating DESC\n",
    "     LIMIT 10\n",
    "    \"\"\"\n",
    "genres_top_vote_and_rate = pd.read_sql(q, conn)\n",
    "genres_top_vote_and_rate"
   ]
  },
  {
   "cell_type": "markdown",
   "metadata": {},
   "source": [
    "#### 3.1.3. Visualization of movie genres with highest number of votes"
   ]
  },
  {
   "cell_type": "code",
   "execution_count": 126,
   "metadata": {},
   "outputs": [
    {
     "data": {
      "image/png": "[encoded data removed]",
      "text/plain": [
       "<Figure size 720x432 with 1 Axes>"
      ]
     },
     "metadata": {},
     "output_type": "display_data"
    }
   ],
   "source": [
    "# plot bar graph of top ten genres of movies with highest total number of votes\n",
    "# Set figure size for better visibility\n",
    "plt.figure(figsize=(10, 6))\n",
    "\n",
    "# Use a more appealing color palette\n",
    "sns.barplot(\n",
    "    x=genres_top_vote_and_rate['genres'], \n",
    "    y=genres_top_vote_and_rate['Total_numvotes'], \n",
    "    palette=\"viridis\"\n",
    ")\n",
    "# Add labels and title with improved formatting\n",
    "plt.xlabel('Movie Genres', fontsize=12)\n",
    "plt.ylabel('Total Number of Votes', fontsize=12)\n",
    "plt.title('Top 10 Most Voted Movie Genres', fontsize=14, fontweight='bold')\n",
    "\n",
    "# Rotate x-axis labels for better readability\n",
    "plt.xticks(rotation=45, ha='right')\n",
    "\n",
    "# Display the grid for better readability\n",
    "plt.grid(axis='y', linestyle='--', alpha=0.7)\n",
    "\n",
    "plt.show()"
   ]
  },
  {
   "cell_type": "markdown",
   "metadata": {},
   "source": [
    "* `Action,Adventure,Sci-Fi` genre has the highest number of votes followed by `Action,Adventure,Fantacy`\n",
    "  and `Adventure,Animation,Comedy` genres .\n",
    "* `Drama,Romance` genre has the lowest votes among the top 10 highest voted."
   ]
  },
  {
   "cell_type": "markdown",
   "metadata": {},
   "source": [
    "#### 3.1.4. Visualization of movie genres with highest average ratings"
   ]
  },
  {
   "cell_type": "code",
   "execution_count": 127,
   "metadata": {
    "scrolled": true
   },
   "outputs": [
    {
     "data": {
      "image/png": "[encoded data removed]",
      "text/plain": [
       "<Figure size 720x432 with 1 Axes>"
      ]
     },
     "metadata": {},
     "output_type": "display_data"
    }
   ],
   "source": [
    "# Sort data by average rating in descending order\n",
    "sorted_data = genres_top_vote_and_rate.sort_values(by='Avg_averagerating', ascending=False)\n",
    "\n",
    "# Set figure size for better visibility\n",
    "plt.figure(figsize=(10, 6))\n",
    "\n",
    "# Use a more appealing color palette\n",
    "sns.barplot(\n",
    "    x=sorted_data['genres'], \n",
    "    y=sorted_data['Avg_averagerating'], \n",
    "    palette=\"viridis\"\n",
    ")\n",
    "\n",
    "# Add labels and title with improved formatting\n",
    "plt.xlabel('Movie Genres', fontsize=12)\n",
    "plt.ylabel('Average Rating', fontsize=12)\n",
    "plt.title('Top 10 Highest Rated Movie Genres', fontsize=14, fontweight='bold')\n",
    "\n",
    "# Rotate x-axis labels for better readability\n",
    "plt.xticks(rotation=45, ha='right')\n",
    "\n",
    "# Display the grid for better readability\n",
    "plt.grid(axis='y', linestyle='--', alpha=0.7)\n",
    "\n",
    "plt.show()"
   ]
  },
  {
   "cell_type": "markdown",
   "metadata": {},
   "source": [
    "* `Drama` genre has the highest rating based on the top ten genres with the highest number of votes\n",
    "  followed by `Comedy,Drama` and `Drama,Romance`.\n",
    "* `Action,Adventure,Fantasy` genre has the lowest rating among the top 10 highest rated genres.\n",
    "* All top 10 genres have ratings in the range between 5.4 and 6.5."
   ]
  },
  {
   "cell_type": "markdown",
   "metadata": {},
   "source": [
    "### 3.2. Movie genre ratings and number of votes over the years"
   ]
  },
  {
   "cell_type": "markdown",
   "metadata": {},
   "source": [
    "#### 3.2.1. Top five movie genres - votes and ratings over the years"
   ]
  },
  {
   "cell_type": "code",
   "execution_count": 128,
   "metadata": {},
   "outputs": [
    {
     "data": {
      "text/html": [
       "<div>\n",
       "<style scoped>\n",
       "    .dataframe tbody tr th:only-of-type {\n",
       "        vertical-align: middle;\n",
       "    }\n",
       "\n",
       "    .dataframe tbody tr th {\n",
       "        vertical-align: top;\n",
       "    }\n",
       "\n",
       "    .dataframe thead th {\n",
       "        text-align: right;\n",
       "    }\n",
       "</style>\n",
       "<table border=\"1\" class=\"dataframe\">\n",
       "  <thead>\n",
       "    <tr style=\"text-align: right;\">\n",
       "      <th></th>\n",
       "      <th>genres</th>\n",
       "      <th>start_year</th>\n",
       "      <th>Total_numvotes</th>\n",
       "      <th>Avg_averagerating</th>\n",
       "    </tr>\n",
       "  </thead>\n",
       "  <tbody>\n",
       "    <tr>\n",
       "      <th>0</th>\n",
       "      <td>Action,Adventure,Fantasy</td>\n",
       "      <td>2017</td>\n",
       "      <td>2171754</td>\n",
       "      <td>5.575000</td>\n",
       "    </tr>\n",
       "    <tr>\n",
       "      <th>1</th>\n",
       "      <td>Action,Adventure,Fantasy</td>\n",
       "      <td>2016</td>\n",
       "      <td>2124337</td>\n",
       "      <td>6.292308</td>\n",
       "    </tr>\n",
       "    <tr>\n",
       "      <th>2</th>\n",
       "      <td>Action,Adventure,Fantasy</td>\n",
       "      <td>2011</td>\n",
       "      <td>1650970</td>\n",
       "      <td>4.780000</td>\n",
       "    </tr>\n",
       "    <tr>\n",
       "      <th>3</th>\n",
       "      <td>Action,Adventure,Fantasy</td>\n",
       "      <td>2015</td>\n",
       "      <td>883563</td>\n",
       "      <td>5.033333</td>\n",
       "    </tr>\n",
       "    <tr>\n",
       "      <th>4</th>\n",
       "      <td>Action,Adventure,Fantasy</td>\n",
       "      <td>2010</td>\n",
       "      <td>828729</td>\n",
       "      <td>6.216667</td>\n",
       "    </tr>\n",
       "  </tbody>\n",
       "</table>\n",
       "</div>"
      ],
      "text/plain": [
       "                     genres  start_year  Total_numvotes  Avg_averagerating\n",
       "0  Action,Adventure,Fantasy        2017         2171754           5.575000\n",
       "1  Action,Adventure,Fantasy        2016         2124337           6.292308\n",
       "2  Action,Adventure,Fantasy        2011         1650970           4.780000\n",
       "3  Action,Adventure,Fantasy        2015          883563           5.033333\n",
       "4  Action,Adventure,Fantasy        2010          828729           6.216667"
      ]
     },
     "execution_count": 128,
     "metadata": {},
     "output_type": "execute_result"
    }
   ],
   "source": [
    "# Total number of votes and ratings of top 5 movies over the years\n",
    "q = \"\"\" \n",
    "    SELECT genres, start_year, SUM(numvotes) AS Total_numvotes, AVG(averagerating) AS Avg_averagerating\n",
    "      FROM movie_basics\n",
    "           JOIN movie_ratings\n",
    "           USING(movie_id)\n",
    "    WHERE genres IS NOT NULL\n",
    "  GROUP BY genres, start_year\n",
    "    HAVING genres == 'Action,Adventure,Sci-Fi' OR genres =='Action,Adventure,Fantasy' OR genres == 'Adventure,Animation,Comedy' OR genres == 'Drama' OR genres =='Comedy,Drama,Romance'\n",
    "  ORDER BY genres, Total_numvotes DESC;\n",
    " \n",
    "    \"\"\"\n",
    "genres_votes_over_years = pd.read_sql(q, conn)\n",
    "genres_votes_over_years.head()"
   ]
  },
  {
   "cell_type": "code",
   "execution_count": 129,
   "metadata": {},
   "outputs": [],
   "source": [
    "## Top Rating movies and their number of votes "
   ]
  },
  {
   "cell_type": "code",
   "execution_count": 130,
   "metadata": {},
   "outputs": [
    {
     "data": {
      "text/html": [
       "<div>\n",
       "<style scoped>\n",
       "    .dataframe tbody tr th:only-of-type {\n",
       "        vertical-align: middle;\n",
       "    }\n",
       "\n",
       "    .dataframe tbody tr th {\n",
       "        vertical-align: top;\n",
       "    }\n",
       "\n",
       "    .dataframe thead th {\n",
       "        text-align: right;\n",
       "    }\n",
       "</style>\n",
       "<table border=\"1\" class=\"dataframe\">\n",
       "  <thead>\n",
       "    <tr style=\"text-align: right;\">\n",
       "      <th></th>\n",
       "      <th>genres</th>\n",
       "      <th>Avg_averagerating</th>\n",
       "      <th>Total_numvotes</th>\n",
       "    </tr>\n",
       "  </thead>\n",
       "  <tbody>\n",
       "    <tr>\n",
       "      <th>0</th>\n",
       "      <td>Comedy,Documentary,Fantasy</td>\n",
       "      <td>9.4</td>\n",
       "      <td>5</td>\n",
       "    </tr>\n",
       "    <tr>\n",
       "      <th>1</th>\n",
       "      <td>Documentary,Family,Musical</td>\n",
       "      <td>9.3</td>\n",
       "      <td>19</td>\n",
       "    </tr>\n",
       "    <tr>\n",
       "      <th>2</th>\n",
       "      <td>History,Sport</td>\n",
       "      <td>9.2</td>\n",
       "      <td>5</td>\n",
       "    </tr>\n",
       "    <tr>\n",
       "      <th>3</th>\n",
       "      <td>Game-Show</td>\n",
       "      <td>9.0</td>\n",
       "      <td>7</td>\n",
       "    </tr>\n",
       "    <tr>\n",
       "      <th>4</th>\n",
       "      <td>Music,Mystery</td>\n",
       "      <td>9.0</td>\n",
       "      <td>5</td>\n",
       "    </tr>\n",
       "    <tr>\n",
       "      <th>5</th>\n",
       "      <td>Documentary,News,Sport</td>\n",
       "      <td>8.8</td>\n",
       "      <td>25</td>\n",
       "    </tr>\n",
       "    <tr>\n",
       "      <th>6</th>\n",
       "      <td>Drama,Fantasy,War</td>\n",
       "      <td>8.8</td>\n",
       "      <td>22</td>\n",
       "    </tr>\n",
       "    <tr>\n",
       "      <th>7</th>\n",
       "      <td>Comedy,Drama,Reality-TV</td>\n",
       "      <td>8.8</td>\n",
       "      <td>15</td>\n",
       "    </tr>\n",
       "    <tr>\n",
       "      <th>8</th>\n",
       "      <td>Documentary,News,Reality-TV</td>\n",
       "      <td>8.8</td>\n",
       "      <td>8</td>\n",
       "    </tr>\n",
       "    <tr>\n",
       "      <th>9</th>\n",
       "      <td>Drama,Short</td>\n",
       "      <td>8.8</td>\n",
       "      <td>8</td>\n",
       "    </tr>\n",
       "  </tbody>\n",
       "</table>\n",
       "</div>"
      ],
      "text/plain": [
       "                        genres  Avg_averagerating  Total_numvotes\n",
       "0   Comedy,Documentary,Fantasy                9.4               5\n",
       "1   Documentary,Family,Musical                9.3              19\n",
       "2                History,Sport                9.2               5\n",
       "3                    Game-Show                9.0               7\n",
       "4                Music,Mystery                9.0               5\n",
       "5       Documentary,News,Sport                8.8              25\n",
       "6            Drama,Fantasy,War                8.8              22\n",
       "7      Comedy,Drama,Reality-TV                8.8              15\n",
       "8  Documentary,News,Reality-TV                8.8               8\n",
       "9                  Drama,Short                8.8               8"
      ]
     },
     "execution_count": 130,
     "metadata": {},
     "output_type": "execute_result"
    }
   ],
   "source": [
    "# top 10 movie genres with highest number of votes and average rating \n",
    "q = \"\"\" \n",
    "    SELECT genres, AVG(averagerating) AS Avg_averagerating, SUM(numvotes) AS Total_numvotes\n",
    "      FROM movie_basics\n",
    "           JOIN movie_ratings\n",
    "           USING(movie_id)\n",
    "   GROUP BY genres\n",
    "  ORDER BY Avg_averagerating DESC, Total_numvotes DESC\n",
    "     LIMIT 10\n",
    "    \"\"\"\n",
    "genres_top_rate = pd.read_sql(q, conn)\n",
    "genres_top_rate"
   ]
  },
  {
   "cell_type": "markdown",
   "metadata": {},
   "source": [
    "- Genres with highest rating hava th"
   ]
  },
  {
   "cell_type": "markdown",
   "metadata": {},
   "source": [
    "#### 3.2.2. Visualization of number votes of top five movie genres over time "
   ]
  },
  {
   "cell_type": "code",
   "execution_count": 131,
   "metadata": {},
   "outputs": [
    {
     "data": {
      "image/png": "[encoded data removed]",
      "text/plain": [
       "<Figure size 720x432 with 1 Axes>"
      ]
     },
     "metadata": {},
     "output_type": "display_data"
    }
   ],
   "source": [
    "# plot top 5 genres and total number of voters over the years\n",
    "plt.figure(figsize=(10, 6))\n",
    "sns.lineplot(data= genres_votes_over_years, x='start_year', y='Total_numvotes', hue='genres', marker='o')\n",
    "\n",
    "# Add labels and title with improved formatting\n",
    "plt.title('Votes over the years', fontsize=16)\n",
    "plt.xlabel('Start years', fontsize=12)\n",
    "plt.ylabel('Total number of votes', fontsize=12)\n",
    "plt.grid(True)\n",
    "plt.legend(title='genres')\n",
    "plt.show()"
   ]
  },
  {
   "cell_type": "markdown",
   "metadata": {},
   "source": [
    "- Visualization above displays the total number of votes over the years from the year 2010 to the year 2019.\n",
    "  We can observe that number of votes have been decreasing gradually over the years.\n",
    "- `Action,Adventure,Sci-Fi` genre is with the highest number of votes over the years."
   ]
  },
  {
   "cell_type": "markdown",
   "metadata": {},
   "source": [
    "#### 3.2.3. Visualization of average ratings of top five movie genres over the years"
   ]
  },
  {
   "cell_type": "code",
   "execution_count": 132,
   "metadata": {},
   "outputs": [
    {
     "data": {
      "image/png": "[encoded data removed]",
      "text/plain": [
       "<Figure size 720x432 with 1 Axes>"
      ]
     },
     "metadata": {},
     "output_type": "display_data"
    }
   ],
   "source": [
    "# plot ratings of top 5 genres over the years\n",
    "plt.figure(figsize=(10, 6))\n",
    "sns.lineplot(data= genres_votes_over_years, x='start_year', y='Avg_averagerating', hue='genres', marker='o')\n",
    "\n",
    "plt.title('Movies Ratings of top 5 genres over the years', fontsize=16)\n",
    "plt.xlabel('Start years', fontsize=12)\n",
    "plt.ylabel('Ratings', fontsize=12)\n",
    "plt.grid(True)\n",
    "plt.legend(title='genres')\n",
    "plt.show()"
   ]
  },
  {
   "cell_type": "markdown",
   "metadata": {},
   "source": [
    "* From the above visualization, we can observe that:\n",
    "- There is a general trend of increase in the rating of most of the genres.\n",
    "- `Drama` genre has the highest and increased rating over the years followed by `commedy,Drama,Romance` and  `Adventure,Animation,comedy`genres.\n",
    "- `Action,Adventure,Sci-Fi` and `Action,Adventure,Fantacy` genres had fluctuating ratings over the years."
   ]
  },
  {
   "cell_type": "markdown",
   "metadata": {},
   "source": [
    "### 3.3. Runtime of movies and effect on votes and ratings"
   ]
  },
  {
   "cell_type": "code",
   "execution_count": 133,
   "metadata": {},
   "outputs": [
    {
     "data": {
      "text/html": [
       "<div>\n",
       "<style scoped>\n",
       "    .dataframe tbody tr th:only-of-type {\n",
       "        vertical-align: middle;\n",
       "    }\n",
       "\n",
       "    .dataframe tbody tr th {\n",
       "        vertical-align: top;\n",
       "    }\n",
       "\n",
       "    .dataframe thead th {\n",
       "        text-align: right;\n",
       "    }\n",
       "</style>\n",
       "<table border=\"1\" class=\"dataframe\">\n",
       "  <thead>\n",
       "    <tr style=\"text-align: right;\">\n",
       "      <th></th>\n",
       "      <th>Avg_runtime_minutes</th>\n",
       "      <th>Total_numvotes</th>\n",
       "      <th>Avg_rating</th>\n",
       "    </tr>\n",
       "  </thead>\n",
       "  <tbody>\n",
       "    <tr>\n",
       "      <th>0</th>\n",
       "      <td>108.569106</td>\n",
       "      <td>23023053</td>\n",
       "      <td>5.668293</td>\n",
       "    </tr>\n",
       "    <tr>\n",
       "      <th>1</th>\n",
       "      <td>108.320000</td>\n",
       "      <td>9658805</td>\n",
       "      <td>5.336000</td>\n",
       "    </tr>\n",
       "    <tr>\n",
       "      <th>2</th>\n",
       "      <td>88.448718</td>\n",
       "      <td>8687201</td>\n",
       "      <td>5.944444</td>\n",
       "    </tr>\n",
       "    <tr>\n",
       "      <th>3</th>\n",
       "      <td>97.633723</td>\n",
       "      <td>8342370</td>\n",
       "      <td>6.485779</td>\n",
       "    </tr>\n",
       "    <tr>\n",
       "      <th>4</th>\n",
       "      <td>100.415876</td>\n",
       "      <td>7662618</td>\n",
       "      <td>6.288870</td>\n",
       "    </tr>\n",
       "    <tr>\n",
       "      <th>...</th>\n",
       "      <td>...</td>\n",
       "      <td>...</td>\n",
       "      <td>...</td>\n",
       "    </tr>\n",
       "    <tr>\n",
       "      <th>902</th>\n",
       "      <td>87.000000</td>\n",
       "      <td>6</td>\n",
       "      <td>2.800000</td>\n",
       "    </tr>\n",
       "    <tr>\n",
       "      <th>903</th>\n",
       "      <td>70.000000</td>\n",
       "      <td>5</td>\n",
       "      <td>9.400000</td>\n",
       "    </tr>\n",
       "    <tr>\n",
       "      <th>904</th>\n",
       "      <td>74.000000</td>\n",
       "      <td>5</td>\n",
       "      <td>6.400000</td>\n",
       "    </tr>\n",
       "    <tr>\n",
       "      <th>905</th>\n",
       "      <td>105.000000</td>\n",
       "      <td>5</td>\n",
       "      <td>6.400000</td>\n",
       "    </tr>\n",
       "    <tr>\n",
       "      <th>906</th>\n",
       "      <td>78.000000</td>\n",
       "      <td>5</td>\n",
       "      <td>4.400000</td>\n",
       "    </tr>\n",
       "  </tbody>\n",
       "</table>\n",
       "<p>907 rows × 3 columns</p>\n",
       "</div>"
      ],
      "text/plain": [
       "     Avg_runtime_minutes  Total_numvotes  Avg_rating\n",
       "0             108.569106        23023053    5.668293\n",
       "1             108.320000         9658805    5.336000\n",
       "2              88.448718         8687201    5.944444\n",
       "3              97.633723         8342370    6.485779\n",
       "4             100.415876         7662618    6.288870\n",
       "..                   ...             ...         ...\n",
       "902            87.000000               6    2.800000\n",
       "903            70.000000               5    9.400000\n",
       "904            74.000000               5    6.400000\n",
       "905           105.000000               5    6.400000\n",
       "906            78.000000               5    4.400000\n",
       "\n",
       "[907 rows x 3 columns]"
      ]
     },
     "execution_count": 133,
     "metadata": {},
     "output_type": "execute_result"
    }
   ],
   "source": [
    "# check if there is effect of runtime of movies on rating and votes\n",
    "# join movie_basics and movie_ratings tables\n",
    "q = \"\"\" \n",
    "    SELECT AVG(runtime_minutes) AS Avg_runtime_minutes, SUM(numvotes) AS Total_numvotes, AVG(averagerating) AS Avg_rating\n",
    "      FROM movie_basics\n",
    "           JOIN movie_ratings\n",
    "           USING(movie_id)\n",
    "    WHERE runtime_minutes IS NOT NULL\n",
    "    GROUP BY genres\n",
    "  ORDER BY Total_numvotes DESC, Avg_rating DESC\n",
    "    \"\"\"\n",
    "movie_runtime = pd.read_sql(q, conn)\n",
    "movie_runtime"
   ]
  },
  {
   "cell_type": "markdown",
   "metadata": {},
   "source": [
    "- From the above table we can see that the top 10 movie genres with highest votes\n",
    "  \n",
    "  and ratings have an average runtime between 88.4 and 108.6 minutes \n"
   ]
  },
  {
   "cell_type": "markdown",
   "metadata": {},
   "source": [
    "### 3.3.1. Correlation between Average runtime, number of votes and avarage rating"
   ]
  },
  {
   "cell_type": "code",
   "execution_count": 134,
   "metadata": {},
   "outputs": [
    {
     "data": {
      "image/png": "[encoded data removed]",
      "text/plain": [
       "<Figure size 576x360 with 2 Axes>"
      ]
     },
     "metadata": {},
     "output_type": "display_data"
    }
   ],
   "source": [
    "# Compute correlation matrix\n",
    "correlation_matrix = movie_runtime[['Avg_runtime_minutes', 'Total_numvotes', 'Avg_rating']].corr()\n",
    "\n",
    "plt.figure(figsize=(8, 5))\n",
    "\n",
    "# Plot heatmap\n",
    "sns.heatmap(correlation_matrix, annot=True, cmap=\"coolwarm\", fmt=\".2f\", linewidths=0.5)\n",
    "\n",
    "# Add title\n",
    "plt.title(\"Correlation: Movie Runtime, Votes, and Ratings\", fontsize=14, fontweight=\"bold\")\n",
    "\n",
    "# Show plot\n",
    "plt.show()"
   ]
  },
  {
   "cell_type": "markdown",
   "metadata": {},
   "source": [
    "**We can observe:**\n",
    "- correlation of 0.11 between the **`total number of votes`** and **`average runtime`** which indicates a `weak positive` relationship.\n",
    "- correlation of -0.07 between the **`total number of votes`** and **`average rating`** which indicates a `weak negative` relationship\n",
    "- correlation of -0.10 between the **`average rating`** and **`average runtime`** which indicates a `weak negative` relationship.\n",
    "- Generally there is a week or correlation between movie runtime and number of votes and ratings. "
   ]
  },
  {
   "cell_type": "markdown",
   "metadata": {},
   "source": [
    "### 3.4. Movie languages and ratings and number of votes"
   ]
  },
  {
   "cell_type": "code",
   "execution_count": 135,
   "metadata": {},
   "outputs": [
    {
     "data": {
      "text/html": [
       "<div>\n",
       "<style scoped>\n",
       "    .dataframe tbody tr th:only-of-type {\n",
       "        vertical-align: middle;\n",
       "    }\n",
       "\n",
       "    .dataframe tbody tr th {\n",
       "        vertical-align: top;\n",
       "    }\n",
       "\n",
       "    .dataframe thead th {\n",
       "        text-align: right;\n",
       "    }\n",
       "</style>\n",
       "<table border=\"1\" class=\"dataframe\">\n",
       "  <thead>\n",
       "    <tr style=\"text-align: right;\">\n",
       "      <th></th>\n",
       "      <th>language</th>\n",
       "      <th>Total_numvotes</th>\n",
       "      <th>Avg_averagerating</th>\n",
       "    </tr>\n",
       "  </thead>\n",
       "  <tbody>\n",
       "    <tr>\n",
       "      <th>0</th>\n",
       "      <td>fr</td>\n",
       "      <td>231092513</td>\n",
       "      <td>6.413583</td>\n",
       "    </tr>\n",
       "    <tr>\n",
       "      <th>1</th>\n",
       "      <td>tr</td>\n",
       "      <td>212375744</td>\n",
       "      <td>6.179227</td>\n",
       "    </tr>\n",
       "    <tr>\n",
       "      <th>2</th>\n",
       "      <td>bg</td>\n",
       "      <td>211275380</td>\n",
       "      <td>6.248951</td>\n",
       "    </tr>\n",
       "    <tr>\n",
       "      <th>3</th>\n",
       "      <td>en</td>\n",
       "      <td>209264624</td>\n",
       "      <td>6.269339</td>\n",
       "    </tr>\n",
       "    <tr>\n",
       "      <th>4</th>\n",
       "      <td>he</td>\n",
       "      <td>183490289</td>\n",
       "      <td>6.537221</td>\n",
       "    </tr>\n",
       "    <tr>\n",
       "      <th>5</th>\n",
       "      <td>fa</td>\n",
       "      <td>28314980</td>\n",
       "      <td>6.166087</td>\n",
       "    </tr>\n",
       "    <tr>\n",
       "      <th>6</th>\n",
       "      <td>cmn</td>\n",
       "      <td>18428732</td>\n",
       "      <td>5.834505</td>\n",
       "    </tr>\n",
       "    <tr>\n",
       "      <th>7</th>\n",
       "      <td>hr</td>\n",
       "      <td>16425337</td>\n",
       "      <td>5.851701</td>\n",
       "    </tr>\n",
       "    <tr>\n",
       "      <th>8</th>\n",
       "      <td>ca</td>\n",
       "      <td>15852436</td>\n",
       "      <td>6.762882</td>\n",
       "    </tr>\n",
       "    <tr>\n",
       "      <th>9</th>\n",
       "      <td>sv</td>\n",
       "      <td>15698475</td>\n",
       "      <td>6.811809</td>\n",
       "    </tr>\n",
       "  </tbody>\n",
       "</table>\n",
       "</div>"
      ],
      "text/plain": [
       "  language  Total_numvotes  Avg_averagerating\n",
       "0       fr       231092513           6.413583\n",
       "1       tr       212375744           6.179227\n",
       "2       bg       211275380           6.248951\n",
       "3       en       209264624           6.269339\n",
       "4       he       183490289           6.537221\n",
       "5       fa        28314980           6.166087\n",
       "6      cmn        18428732           5.834505\n",
       "7       hr        16425337           5.851701\n",
       "8       ca        15852436           6.762882\n",
       "9       sv        15698475           6.811809"
      ]
     },
     "execution_count": 135,
     "metadata": {},
     "output_type": "execute_result"
    }
   ],
   "source": [
    "# check effect of language on the rating and number of votes of movies\n",
    "q = '''\n",
    "SELECT language, SUM(numvotes) AS Total_numvotes, AVG(averagerating) AS Avg_averagerating\n",
    "      FROM movie_akas\n",
    "           JOIN movie_ratings\n",
    "           USING(movie_id)\n",
    "     WHERE language IS NOT NULL\n",
    "  GROUP BY language\n",
    "  ORDER BY Total_numvotes DESC, Avg_averagerating DESC\n",
    "  LIMIT 10\n",
    "'''\n",
    "\n",
    "movie_language = pd.read_sql(q, conn)\n",
    "movie_language"
   ]
  },
  {
   "cell_type": "markdown",
   "metadata": {},
   "source": [
    "#### 3.4.1. Visualization of effect of movie language on rating and total number of voters of movies"
   ]
  },
  {
   "cell_type": "code",
   "execution_count": 136,
   "metadata": {},
   "outputs": [
    {
     "data": {
      "image/png": "[encoded data removed]",
      "text/plain": [
       "<Figure size 864x432 with 1 Axes>"
      ]
     },
     "metadata": {},
     "output_type": "display_data"
    }
   ],
   "source": [
    "plt.figure(figsize=(12, 6))\n",
    "sns.barplot(x='language', y='Total_numvotes', data=movie_language, ci=None)\n",
    "#plt.xticks(rotation=90)  # Rotate labels for readability\n",
    "plt.xlabel(\"Language\")\n",
    "plt.ylabel(\"Total Number of Votes\")\n",
    "plt.title(\"Total Number of Votes by Movie Language\")\n",
    "plt.show()\n"
   ]
  },
  {
   "cell_type": "markdown",
   "metadata": {},
   "source": [
    "- Movies in **French language** have the highest votes followed by **Turkish** and **Bulgarian**.\n",
    "- We have movies with swedish language with the lowest number of votes."
   ]
  },
  {
   "cell_type": "markdown",
   "metadata": {},
   "source": [
    "### 3.4.2. Chi-square to test if movie language affects ratings"
   ]
  },
  {
   "cell_type": "markdown",
   "metadata": {},
   "source": [
    "To determine if ratings vary by language, we used Chi-Square Which is designed to test \n",
    "relationships between categorical variables hence great for our task.\n",
    "#### Hypothesis testing\n",
    "##### Null Hypothesis (H₀):\n",
    "There is no difference in ratings of movies in different languages.\n",
    "##### Alternative Hypothesis (H₁):\n",
    "There is difference in ratings of movies in different languages."
   ]
  },
  {
   "cell_type": "code",
   "execution_count": 137,
   "metadata": {},
   "outputs": [
    {
     "name": "stdout",
     "output_type": "stream",
     "text": [
      "Chi-Square Statistic: 10.00, p-value: 0.3505\n"
     ]
    }
   ],
   "source": [
    "# we use chi-square to test the hypothesis\n",
    "\n",
    "#import necessary library\n",
    "from scipy.stats import chi2_contingency\n",
    "\n",
    "# Categorize ratings\n",
    "bins = [0, 6.5, 7.5, 10]\n",
    "labels = ['Low', 'Medium', 'High']\n",
    "movie_language['Rating_Category'] = pd.cut(movie_language['Avg_averagerating'], bins=bins, labels=labels)\n",
    "\n",
    "# Create a contingency table\n",
    "contingency_table = pd.crosstab(movie_language['language'], movie_language['Rating_Category'])\n",
    "\n",
    "# Perform Chi-Square test\n",
    "chi2_stat, p_value, dof, expected = chi2_contingency(contingency_table)\n",
    "\n",
    "print(f\"Chi-Square Statistic: {chi2_stat:.2f}, p-value: {p_value:.4f}\")"
   ]
  },
  {
   "cell_type": "markdown",
   "metadata": {},
   "source": [
    "- With 95% significance level(alpha = 0.05), since P-value(0.3505) is greater than 0.05, we fail to reject the null hypothesis. This means that the relationship between movie language and ratings is not statistically significant. "
   ]
  },
  {
   "cell_type": "markdown",
   "metadata": {},
   "source": [
    "### 3.5. Regions and ratings and number of votes"
   ]
  },
  {
   "cell_type": "code",
   "execution_count": 138,
   "metadata": {},
   "outputs": [
    {
     "data": {
      "text/html": [
       "<div>\n",
       "<style scoped>\n",
       "    .dataframe tbody tr th:only-of-type {\n",
       "        vertical-align: middle;\n",
       "    }\n",
       "\n",
       "    .dataframe tbody tr th {\n",
       "        vertical-align: top;\n",
       "    }\n",
       "\n",
       "    .dataframe thead th {\n",
       "        text-align: right;\n",
       "    }\n",
       "</style>\n",
       "<table border=\"1\" class=\"dataframe\">\n",
       "  <thead>\n",
       "    <tr style=\"text-align: right;\">\n",
       "      <th></th>\n",
       "      <th>movie_region</th>\n",
       "      <th>Total_numvotes</th>\n",
       "      <th>Avg_averagerating</th>\n",
       "    </tr>\n",
       "  </thead>\n",
       "  <tbody>\n",
       "    <tr>\n",
       "      <th>0</th>\n",
       "      <td>US</td>\n",
       "      <td>418957631</td>\n",
       "      <td>6.218606</td>\n",
       "    </tr>\n",
       "    <tr>\n",
       "      <th>1</th>\n",
       "      <td>GR</td>\n",
       "      <td>314020162</td>\n",
       "      <td>6.418054</td>\n",
       "    </tr>\n",
       "    <tr>\n",
       "      <th>2</th>\n",
       "      <td>ES</td>\n",
       "      <td>259269856</td>\n",
       "      <td>6.298747</td>\n",
       "    </tr>\n",
       "    <tr>\n",
       "      <th>3</th>\n",
       "      <td>RU</td>\n",
       "      <td>253657614</td>\n",
       "      <td>6.114330</td>\n",
       "    </tr>\n",
       "    <tr>\n",
       "      <th>4</th>\n",
       "      <td>BR</td>\n",
       "      <td>242543329</td>\n",
       "      <td>6.188029</td>\n",
       "    </tr>\n",
       "    <tr>\n",
       "      <th>5</th>\n",
       "      <td>CA</td>\n",
       "      <td>240139452</td>\n",
       "      <td>6.358648</td>\n",
       "    </tr>\n",
       "    <tr>\n",
       "      <th>6</th>\n",
       "      <td>PL</td>\n",
       "      <td>227107093</td>\n",
       "      <td>6.342997</td>\n",
       "    </tr>\n",
       "    <tr>\n",
       "      <th>7</th>\n",
       "      <td>HU</td>\n",
       "      <td>221576907</td>\n",
       "      <td>6.315188</td>\n",
       "    </tr>\n",
       "    <tr>\n",
       "      <th>8</th>\n",
       "      <td>PT</td>\n",
       "      <td>219949216</td>\n",
       "      <td>6.306735</td>\n",
       "    </tr>\n",
       "    <tr>\n",
       "      <th>9</th>\n",
       "      <td>RS</td>\n",
       "      <td>216622549</td>\n",
       "      <td>6.411964</td>\n",
       "    </tr>\n",
       "  </tbody>\n",
       "</table>\n",
       "</div>"
      ],
      "text/plain": [
       "  movie_region  Total_numvotes  Avg_averagerating\n",
       "0           US       418957631           6.218606\n",
       "1           GR       314020162           6.418054\n",
       "2           ES       259269856           6.298747\n",
       "3           RU       253657614           6.114330\n",
       "4           BR       242543329           6.188029\n",
       "5           CA       240139452           6.358648\n",
       "6           PL       227107093           6.342997\n",
       "7           HU       221576907           6.315188\n",
       "8           PT       219949216           6.306735\n",
       "9           RS       216622549           6.411964"
      ]
     },
     "execution_count": 138,
     "metadata": {},
     "output_type": "execute_result"
    }
   ],
   "source": [
    "# check effect of region on the rating and number of votes of movies\n",
    "q = '''\n",
    "    SELECT region AS movie_region, SUM(numvotes) AS Total_numvotes, AVG(averagerating) AS Avg_averagerating\n",
    "      FROM movie_ratings \n",
    "           LEFT JOIN movie_akas\n",
    "           USING(movie_id)\n",
    "    WHERE region IS NOT NULL\n",
    "  GROUP BY region\n",
    "  ORDER BY Total_numvotes DESC, Avg_averagerating DESC\n",
    "  LIMIT 10;\n",
    "'''\n",
    "movie_region = pd.read_sql(q, conn)\n",
    "movie_region"
   ]
  },
  {
   "cell_type": "markdown",
   "metadata": {},
   "source": [
    "### 3.5.1. Visualization of impact of movie region on effect ratingsabs and total number of voters"
   ]
  },
  {
   "cell_type": "code",
   "execution_count": 139,
   "metadata": {},
   "outputs": [
    {
     "data": {
      "text/plain": [
       "<Figure size 864x432 with 0 Axes>"
      ]
     },
     "metadata": {},
     "output_type": "display_data"
    },
    {
     "data": {
      "image/png": "[encoded data removed]",
      "text/plain": [
       "<Figure size 864x432 with 2 Axes>"
      ]
     },
     "metadata": {},
     "output_type": "display_data"
    }
   ],
   "source": [
    "# plot bar graph and line graph on the same axsis to show impact of \n",
    "# movie region on ratings and total number of votes\n",
    "\n",
    "plt.figure(figsize=(12, 6))\n",
    "\n",
    "# Sort data by votes for better visualization\n",
    "movie_region = movie_region.sort_values(by=\"Total_numvotes\", ascending=False)\n",
    "\n",
    "# Create a twin-axis plot\n",
    "fig, ax1 = plt.subplots(figsize=(12, 6))\n",
    "\n",
    "# Plot total votes (bar chart)\n",
    "sns.barplot(\n",
    "    x=\"movie_region\", y=\"Total_numvotes\", data=movie_region, palette=\"coolwarm\", ax=ax1\n",
    ")\n",
    "ax1.set_ylabel(\"Total Number of Votes\", color=\"red\", fontsize=12)\n",
    "ax1.set_xlabel(\"Region\", fontsize=12)\n",
    "ax1.tick_params(axis=\"y\", labelcolor=\"red\")\n",
    "\n",
    "# Create a second y-axis for average ratings\n",
    "ax2 = ax1.twinx()\n",
    "sns.lineplot(\n",
    "    x=\"movie_region\", y=\"Avg_averagerating\", data=movie_region, color=\"blue\", marker=\"o\", ax=ax2\n",
    ")\n",
    "ax2.set_ylabel(\"Average Rating\", color=\"blue\", fontsize=12)\n",
    "ax2.tick_params(axis=\"y\", labelcolor=\"blue\")\n",
    "\n",
    "# Title and layout\n",
    "plt.title(\"Impact of Region on Movie Votes and Ratings\", fontsize=14)\n",
    "plt.xticks(rotation=45)  # Rotate x-axis labels for better readability\n",
    "plt.grid(axis=\"y\", linestyle=\"--\", alpha=0.5)\n",
    "plt.show()"
   ]
  },
  {
   "cell_type": "markdown",
   "metadata": {},
   "source": [
    "- From the above visualization we can observe that United states has the highest number of votes and the highest number of rating followed by Greece.\n",
    "- Russia has the lowest avarage rating.\n",
    "- Republic of Serbia has the lowest number of votes overal."
   ]
  },
  {
   "cell_type": "markdown",
   "metadata": {},
   "source": [
    "## 4. Analysis Summary\n",
    "\n",
    "Our analysis process included:\n",
    "- 1. Exploratory Data Analysis (EDA): We examined various film attributes, such as genres, ratings, votes, languages, and regions, to uncover patterns and trends in the film industry.\n",
    "\n",
    "- 2. Visualization and Insights: Through data visualization techniques, we identified key findings and trends in the industry, which were then translated into actionable recommendations.\n",
    "\n",
    "- 3. Statistical Analysis: We applied correlation analysis and hypothesis testing to determine relationships between film attributes such as runtime, language, and popularity.\n",
    "\n",
    "## 5. Key Findings\n",
    "\n",
    "Our analysis revealed several characteristics of films that tend to perform well at the box office:\n",
    "\n",
    "#### Genre Trends:\n",
    "\n",
    "- **Drama** movies have the highest rating among the top ten genres with the highest number of votes, followed by **Comedy,Drama**, and **Drama,Romance**.\n",
    "\n",
    "- The **Action,Adventure,Sci-Fi** genre has the highest number of votes, followed by **Action,Adventure,Fantasy** and **Adventure,Animation,Comedy**. These genres have a strong audience base, indicating their popularity in mainstream cinema.\n",
    "\n",
    "#### Runtime and Popularity:\n",
    "\n",
    "- There is a very weak positive correlation (0.10) between the total number of votes and average runtime, and very weak negative correlation (-0.07) between average rating and average runtime.\n",
    "- This suggests that runtime of movies as little or no effect on ratings or number of votes. \n",
    "### Language Preference:\n",
    "\n",
    "Movies in the French language have received the highest number of votes (231,092,513), followed by Turkish and Bulgarian films. This suggests that French-language films have a wider global reach or a highly engaged audience.\n",
    "\n",
    "### Regional Popularity:\n",
    "\n",
    "- Movies form United States have the highest number of votes and ratings, reflecting its dominance in global cinema.\n",
    "\n",
    "- Surprisingly, Greece ranks second, indicating a strong movie-watching culture or high engagement from Greek audiences.\n",
    "\n",
    "\n",
    "## 6. Recommendations\n",
    "\n",
    "Based on our findings, we suggest the following strategies for the studio:\n",
    "\n",
    "**1. Genre Selection for High Engagement**\n",
    "- Focus on producing or promoting Drama, Comedy, and Romance films, as they receive the highest ratings with high number of votes.\n",
    "\n",
    "- **Action,Adventure,Sci-Fi**, **Action,Adventure,Fantacy** and **Adventure,Animation,Comedy** genres attract the most votes, which inturn means the highest global audience, making them ideal for blockbuster-style films targeting a broad audience.\n",
    "\n",
    "- Consider blending elements of popular genres (e.g., Action-Drama or Sci-Fi-Romance) to appeal to both high-rating and high-vote segments.\n",
    "\n",
    "**2. Language and Market Expansion**\n",
    "\n",
    "- Given the high number of votes for French, Turkish, and Bulgarian films, production companies should consider dubbing or subtitling in these languages to increase global reach.\n",
    "\n",
    "- Investing in regional language content can help tap into underrepresented but highly engaged audiences.\n",
    "\n",
    "**3. Target High-Engagement Markets**\n",
    "- The United States leads in votes, making it a key market for movie releases.\n",
    "\n",
    "- The strong Greek audience engagement suggests opportunities for localized content, marketing campaigns, and regional streaming services.\n"
   ]
  },
  {
   "cell_type": "markdown",
   "metadata": {},
   "source": [
    "## 7. Summary \n",
    "\n",
    "Our analysis of the movie industry data has provided valuable insights that can guide the strategic decisions of the new movie studio. We identified the most popular genres based on average ratings and total votes, revealing that Drama movies tend to receive the highest ratings, while Action, Adventure, and Sci-Fi films attract the most votes. Understanding these trends will help the studio choose movie genres that are both critically acclaimed and commercially successful. Additionally, we examined how factors like movie runtime, language, and region impact ratings and votes. \n",
    "\n",
    "By focusing on high-performing genres and considering factors like language and audience preferences, the new studio can increase its chances of success in a competitive industry"
   ]
  }
 ],
 "metadata": {
  "kernelspec": {
   "display_name": "Python (learn-env)",
   "language": "python",
   "name": "learn-env"
  },
  "language_info": {
   "codemirror_mode": {
    "name": "ipython",
    "version": 3
   },
   "file_extension": ".py",
   "mimetype": "text/x-python",
   "name": "python",
   "nbconvert_exporter": "python",
   "pygments_lexer": "ipython3",
   "version": "3.8.5"
  }
 },
 "nbformat": 4,
 "nbformat_minor": 4
}
